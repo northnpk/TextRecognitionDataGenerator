{
 "cells": [
  {
   "cell_type": "code",
   "execution_count": 2,
   "metadata": {},
   "outputs": [
    {
     "name": "stdout",
     "output_type": "stream",
     "text": [
      "Collecting pillow>=7.0.0 (from -r requirements.txt (line 1))\n",
      "  Obtaining dependency information for pillow>=7.0.0 from https://files.pythonhosted.org/packages/b7/ad/71982d18fd28ed1f93c31b8648f980ebdbdbcf7d8c9c9b4af59290914ce9/Pillow-10.0.0-cp311-cp311-macosx_11_0_arm64.whl.metadata\n",
      "  Downloading Pillow-10.0.0-cp311-cp311-macosx_11_0_arm64.whl.metadata (9.5 kB)\n",
      "Collecting requests>=2.20.0 (from -r requirements.txt (line 2))\n",
      "  Obtaining dependency information for requests>=2.20.0 from https://files.pythonhosted.org/packages/70/8e/0e2d847013cb52cd35b38c009bb167a1a26b2ce6cd6965bf26b47bc0bf44/requests-2.31.0-py3-none-any.whl.metadata\n",
      "  Downloading requests-2.31.0-py3-none-any.whl.metadata (4.6 kB)\n",
      "Collecting opencv-python>=4.2.0.32 (from -r requirements.txt (line 3))\n",
      "  Obtaining dependency information for opencv-python>=4.2.0.32 from https://files.pythonhosted.org/packages/32/a6/4321f0f30ee11d6d85f49251d417f4e885fe7638b5ac50b7e3c80cccf141/opencv_python-4.8.0.76-cp37-abi3-macosx_11_0_arm64.whl.metadata\n",
      "  Using cached opencv_python-4.8.0.76-cp37-abi3-macosx_11_0_arm64.whl.metadata (19 kB)\n",
      "Collecting tqdm>=4.23.0 (from -r requirements.txt (line 4))\n",
      "  Obtaining dependency information for tqdm>=4.23.0 from https://files.pythonhosted.org/packages/00/e5/f12a80907d0884e6dff9c16d0c0114d81b8cd07dc3ae54c5e962cc83037e/tqdm-4.66.1-py3-none-any.whl.metadata\n",
      "  Downloading tqdm-4.66.1-py3-none-any.whl.metadata (57 kB)\n",
      "\u001b[2K     \u001b[90m━━━━━━━━━━━━━━━━━━━━━━━━━━━━━━━━━━━━━━━━\u001b[0m \u001b[32m57.6/57.6 kB\u001b[0m \u001b[31m3.2 MB/s\u001b[0m eta \u001b[36m0:00:00\u001b[0m\n",
      "\u001b[?25hCollecting diffimg==0.2.3 (from -r requirements.txt (line 5))\n",
      "  Using cached diffimg-0.2.3.tar.gz (4.1 kB)\n",
      "  Installing build dependencies ... \u001b[?25ldone\n",
      "\u001b[?25h  Getting requirements to build wheel ... \u001b[?25ldone\n",
      "\u001b[?25h  Preparing metadata (pyproject.toml) ... \u001b[?25ldone\n",
      "\u001b[?25hCollecting arabic-reshaper==2.1.3 (from -r requirements.txt (line 6))\n",
      "  Using cached arabic_reshaper-2.1.3-py3-none-any.whl (20 kB)\n",
      "Collecting python-bidi==0.4.2 (from -r requirements.txt (line 7))\n",
      "  Using cached python_bidi-0.4.2-py2.py3-none-any.whl (30 kB)\n",
      "Collecting wikipedia>=1.4.0 (from -r requirements.txt (line 8))\n",
      "  Using cached wikipedia-1.4.0.tar.gz (27 kB)\n",
      "  Installing build dependencies ... \u001b[?25ldone\n",
      "\u001b[?25h  Getting requirements to build wheel ... \u001b[?25ldone\n",
      "\u001b[?25h  Preparing metadata (pyproject.toml) ... \u001b[?25ldone\n",
      "\u001b[?25hCollecting future (from arabic-reshaper==2.1.3->-r requirements.txt (line 6))\n",
      "  Downloading future-0.18.3.tar.gz (840 kB)\n",
      "\u001b[2K     \u001b[90m━━━━━━━━━━━━━━━━━━━━━━━━━━━━━━━━━━━━━━\u001b[0m \u001b[32m840.9/840.9 kB\u001b[0m \u001b[31m19.4 MB/s\u001b[0m eta \u001b[36m0:00:00\u001b[0m00:01\u001b[0m\n",
      "\u001b[?25h  Installing build dependencies ... \u001b[?25ldone\n",
      "\u001b[?25h  Getting requirements to build wheel ... \u001b[?25ldone\n",
      "\u001b[?25h  Preparing metadata (pyproject.toml) ... \u001b[?25ldone\n",
      "\u001b[?25hRequirement already satisfied: setuptools in /Library/Frameworks/Python.framework/Versions/3.11/lib/python3.11/site-packages (from arabic-reshaper==2.1.3->-r requirements.txt (line 6)) (65.5.0)\n",
      "Requirement already satisfied: six in /Users/IsRealNPK/Library/Python/3.11/lib/python/site-packages (from python-bidi==0.4.2->-r requirements.txt (line 7)) (1.16.0)\n",
      "Collecting charset-normalizer<4,>=2 (from requests>=2.20.0->-r requirements.txt (line 2))\n",
      "  Obtaining dependency information for charset-normalizer<4,>=2 from https://files.pythonhosted.org/packages/91/e6/8fa919fc84a106e9b04109de62bdf8526899e2754a64da66e1cd50ac1faa/charset_normalizer-3.2.0-cp311-cp311-macosx_11_0_arm64.whl.metadata\n",
      "  Downloading charset_normalizer-3.2.0-cp311-cp311-macosx_11_0_arm64.whl.metadata (31 kB)\n",
      "Collecting idna<4,>=2.5 (from requests>=2.20.0->-r requirements.txt (line 2))\n",
      "  Using cached idna-3.4-py3-none-any.whl (61 kB)\n",
      "Collecting urllib3<3,>=1.21.1 (from requests>=2.20.0->-r requirements.txt (line 2))\n",
      "  Obtaining dependency information for urllib3<3,>=1.21.1 from https://files.pythonhosted.org/packages/9b/81/62fd61001fa4b9d0df6e31d47ff49cfa9de4af03adecf339c7bc30656b37/urllib3-2.0.4-py3-none-any.whl.metadata\n",
      "  Downloading urllib3-2.0.4-py3-none-any.whl.metadata (6.6 kB)\n",
      "Collecting certifi>=2017.4.17 (from requests>=2.20.0->-r requirements.txt (line 2))\n",
      "  Obtaining dependency information for certifi>=2017.4.17 from https://files.pythonhosted.org/packages/4c/dd/2234eab22353ffc7d94e8d13177aaa050113286e93e7b40eae01fbf7c3d9/certifi-2023.7.22-py3-none-any.whl.metadata\n",
      "  Downloading certifi-2023.7.22-py3-none-any.whl.metadata (2.2 kB)\n",
      "Collecting numpy>=1.21.2 (from opencv-python>=4.2.0.32->-r requirements.txt (line 3))\n",
      "  Obtaining dependency information for numpy>=1.21.2 from https://files.pythonhosted.org/packages/86/a1/b8ef999c32f26a97b5f714887e21f96c12ae99a38583a0a96e65283ac0a1/numpy-1.25.2-cp311-cp311-macosx_11_0_arm64.whl.metadata\n",
      "  Downloading numpy-1.25.2-cp311-cp311-macosx_11_0_arm64.whl.metadata (5.6 kB)\n",
      "Collecting beautifulsoup4 (from wikipedia>=1.4.0->-r requirements.txt (line 8))\n",
      "  Downloading beautifulsoup4-4.12.2-py3-none-any.whl (142 kB)\n",
      "\u001b[2K     \u001b[90m━━━━━━━━━━━━━━━━━━━━━━━━━━━━━━━━━━━━━━━\u001b[0m \u001b[32m143.0/143.0 kB\u001b[0m \u001b[31m8.8 MB/s\u001b[0m eta \u001b[36m0:00:00\u001b[0m\n",
      "\u001b[?25hCollecting soupsieve>1.2 (from beautifulsoup4->wikipedia>=1.4.0->-r requirements.txt (line 8))\n",
      "  Downloading soupsieve-2.4.1-py3-none-any.whl (36 kB)\n",
      "\u001b[33mWARNING: The candidate selected for download or install is a yanked version: 'arabic-reshaper' candidate (version 2.1.3 at https://files.pythonhosted.org/packages/47/27/7b9b824f5342d8ee180027333f2e15842ea36f5bc2d3d24a4e6bb31fb596/arabic_reshaper-2.1.3-py3-none-any.whl (from https://pypi.org/simple/arabic-reshaper/))\n",
      "Reason for being yanked: Doesn't work with Python 2\u001b[0m\u001b[33m\n",
      "\u001b[0mDownloading Pillow-10.0.0-cp311-cp311-macosx_11_0_arm64.whl (3.1 MB)\n",
      "\u001b[2K   \u001b[90m━━━━━━━━━━━━━━━━━━━━━━━━━━━━━━━━━━━━━━━━\u001b[0m \u001b[32m3.1/3.1 MB\u001b[0m \u001b[31m39.1 MB/s\u001b[0m eta \u001b[36m0:00:00\u001b[0m00:01\u001b[0m00:01\u001b[0m\n",
      "\u001b[?25hDownloading requests-2.31.0-py3-none-any.whl (62 kB)\n",
      "\u001b[2K   \u001b[90m━━━━━━━━━━━━━━━━━━━━━━━━━━━━━━━━━━━━━━━━\u001b[0m \u001b[32m62.6/62.6 kB\u001b[0m \u001b[31m3.6 MB/s\u001b[0m eta \u001b[36m0:00:00\u001b[0m\n",
      "\u001b[?25hUsing cached opencv_python-4.8.0.76-cp37-abi3-macosx_11_0_arm64.whl (33.1 MB)\n",
      "Downloading tqdm-4.66.1-py3-none-any.whl (78 kB)\n",
      "\u001b[2K   \u001b[90m━━━━━━━━━━━━━━━━━━━━━━━━━━━━━━━━━━━━━━━━\u001b[0m \u001b[32m78.3/78.3 kB\u001b[0m \u001b[31m5.4 MB/s\u001b[0m eta \u001b[36m0:00:00\u001b[0m\n",
      "\u001b[?25hDownloading certifi-2023.7.22-py3-none-any.whl (158 kB)\n",
      "\u001b[2K   \u001b[90m━━━━━━━━━━━━━━━━━━━━━━━━━━━━━━━━━━━━━━━━\u001b[0m \u001b[32m158.3/158.3 kB\u001b[0m \u001b[31m9.4 MB/s\u001b[0m eta \u001b[36m0:00:00\u001b[0m\n",
      "\u001b[?25hDownloading charset_normalizer-3.2.0-cp311-cp311-macosx_11_0_arm64.whl (122 kB)\n",
      "\u001b[2K   \u001b[90m━━━━━━━━━━━━━━━━━━━━━━━━━━━━━━━━━━━━━━━━\u001b[0m \u001b[32m122.8/122.8 kB\u001b[0m \u001b[31m8.1 MB/s\u001b[0m eta \u001b[36m0:00:00\u001b[0m\n",
      "\u001b[?25hDownloading numpy-1.25.2-cp311-cp311-macosx_11_0_arm64.whl (14.0 MB)\n",
      "\u001b[2K   \u001b[90m━━━━━━━━━━━━━━━━━━━━━━━━━━━━━━━━━━━━━━━━\u001b[0m \u001b[32m14.0/14.0 MB\u001b[0m \u001b[31m46.7 MB/s\u001b[0m eta \u001b[36m0:00:00\u001b[0m00:01\u001b[0m00:01\u001b[0m\n",
      "\u001b[?25hDownloading urllib3-2.0.4-py3-none-any.whl (123 kB)\n",
      "\u001b[2K   \u001b[90m━━━━━━━━━━━━━━━━━━━━━━━━━━━━━━━━━━━━━━━━\u001b[0m \u001b[32m123.9/123.9 kB\u001b[0m \u001b[31m16.0 MB/s\u001b[0m eta \u001b[36m0:00:00\u001b[0m\n",
      "\u001b[?25hBuilding wheels for collected packages: diffimg, wikipedia, future\n",
      "  Building wheel for diffimg (pyproject.toml) ... \u001b[?25ldone\n",
      "\u001b[?25h  Created wheel for diffimg: filename=diffimg-0.2.3-py3-none-any.whl size=4019 sha256=0804fb41b9c884fab2c0ceaa6089486482dc09a41a1c727f0eac34c9970e7704\n",
      "  Stored in directory: /Users/IsRealNPK/Library/Caches/pip/wheels/5c/29/02/db70c8f86dbb907e99b14d44e83644fdde3e29fc8101840480\n",
      "  Building wheel for wikipedia (pyproject.toml) ... \u001b[?25ldone\n",
      "\u001b[?25h  Created wheel for wikipedia: filename=wikipedia-1.4.0-py3-none-any.whl size=11678 sha256=331aaf183e203ffe2d64eae8b870ddfd05004956ec3ce7bf1a33f1d8b4f7b09c\n",
      "  Stored in directory: /Users/IsRealNPK/Library/Caches/pip/wheels/8f/ab/cb/45ccc40522d3a1c41e1d2ad53b8f33a62f394011ec38cd71c6\n",
      "  Building wheel for future (pyproject.toml) ... \u001b[?25ldone\n",
      "\u001b[?25h  Created wheel for future: filename=future-0.18.3-py3-none-any.whl size=492024 sha256=46a19cc6df8108712e57a0a280a4c0fc14c9c366f16037d13809b6694695d83d\n",
      "  Stored in directory: /Users/IsRealNPK/Library/Caches/pip/wheels/da/19/ca/9d8c44cd311a955509d7e13da3f0bea42400c469ef825b580b\n",
      "Successfully built diffimg wikipedia future\n",
      "Installing collected packages: urllib3, tqdm, soupsieve, python-bidi, pillow, numpy, idna, future, charset-normalizer, certifi, requests, opencv-python, diffimg, beautifulsoup4, arabic-reshaper, wikipedia\n",
      "Successfully installed arabic-reshaper-2.1.3 beautifulsoup4-4.12.2 certifi-2023.7.22 charset-normalizer-3.2.0 diffimg-0.2.3 future-0.18.3 idna-3.4 numpy-1.25.2 opencv-python-4.8.0.76 pillow-10.0.0 python-bidi-0.4.2 requests-2.31.0 soupsieve-2.4.1 tqdm-4.66.1 urllib3-2.0.4 wikipedia-1.4.0\n"
     ]
    }
   ],
   "source": [
    "!pip3 install -r requirements.txt"
   ]
  },
  {
   "cell_type": "code",
   "execution_count": 1,
   "metadata": {},
   "outputs": [],
   "source": [
    "import pandas as pd\n",
    "df = pd.read_csv('GPTNameTHEN.txt', sep=\".\", header=None, index_col=0)"
   ]
  },
  {
   "cell_type": "code",
   "execution_count": 2,
   "metadata": {},
   "outputs": [
    {
     "data": {
      "text/html": [
       "<div>\n",
       "<style scoped>\n",
       "    .dataframe tbody tr th:only-of-type {\n",
       "        vertical-align: middle;\n",
       "    }\n",
       "\n",
       "    .dataframe tbody tr th {\n",
       "        vertical-align: top;\n",
       "    }\n",
       "\n",
       "    .dataframe thead th {\n",
       "        text-align: right;\n",
       "    }\n",
       "</style>\n",
       "<table border=\"1\" class=\"dataframe\">\n",
       "  <thead>\n",
       "    <tr style=\"text-align: right;\">\n",
       "      <th></th>\n",
       "      <th>Name</th>\n",
       "    </tr>\n",
       "    <tr>\n",
       "      <th>0</th>\n",
       "      <th></th>\n",
       "    </tr>\n",
       "  </thead>\n",
       "  <tbody>\n",
       "    <tr>\n",
       "      <th>1</th>\n",
       "      <td>สมชาย ใจดี (Somchai Jai Dee)</td>\n",
       "    </tr>\n",
       "    <tr>\n",
       "      <th>2</th>\n",
       "      <td>รุ่งทิวา สวยงาม (Rungtiwa Suayngam)</td>\n",
       "    </tr>\n",
       "    <tr>\n",
       "      <th>3</th>\n",
       "      <td>ภัทราพร รักชาติ (Patharaporn Rukchat)</td>\n",
       "    </tr>\n",
       "    <tr>\n",
       "      <th>4</th>\n",
       "      <td>อรวรรณ มีรักษ์ (Orawan Mee-rak)</td>\n",
       "    </tr>\n",
       "    <tr>\n",
       "      <th>5</th>\n",
       "      <td>ณัฐวรรณ สุขใจ (Nattawan Sukjai)</td>\n",
       "    </tr>\n",
       "  </tbody>\n",
       "</table>\n",
       "</div>"
      ],
      "text/plain": [
       "                                     Name\n",
       "0                                        \n",
       "1            สมชาย ใจดี (Somchai Jai Dee)\n",
       "2     รุ่งทิวา สวยงาม (Rungtiwa Suayngam)\n",
       "3   ภัทราพร รักชาติ (Patharaporn Rukchat)\n",
       "4         อรวรรณ มีรักษ์ (Orawan Mee-rak)\n",
       "5         ณัฐวรรณ สุขใจ (Nattawan Sukjai)"
      ]
     },
     "execution_count": 2,
     "metadata": {},
     "output_type": "execute_result"
    }
   ],
   "source": [
    "df.columns = [\"Name\"]\n",
    "df.head()"
   ]
  },
  {
   "cell_type": "code",
   "execution_count": 3,
   "metadata": {},
   "outputs": [],
   "source": [
    "import regex as re\n",
    "def en_th_sep(name = 'name'):\n",
    "    name = name.split('(')\n",
    "    name[1] = name[1].replace(')', '')\n",
    "    name[0] = name[0].strip()\n",
    "    if re.search(r'[ก-๙]', name[0]):\n",
    "        return name[1], name[0]\n",
    "    else:\n",
    "        return name[0], name[1]"
   ]
  },
  {
   "cell_type": "code",
   "execution_count": 4,
   "metadata": {},
   "outputs": [],
   "source": [
    "df['en'], df['th'] = zip(*df['Name'].map(en_th_sep))"
   ]
  },
  {
   "cell_type": "code",
   "execution_count": 5,
   "metadata": {},
   "outputs": [
    {
     "data": {
      "text/html": [
       "<div>\n",
       "<style scoped>\n",
       "    .dataframe tbody tr th:only-of-type {\n",
       "        vertical-align: middle;\n",
       "    }\n",
       "\n",
       "    .dataframe tbody tr th {\n",
       "        vertical-align: top;\n",
       "    }\n",
       "\n",
       "    .dataframe thead th {\n",
       "        text-align: right;\n",
       "    }\n",
       "</style>\n",
       "<table border=\"1\" class=\"dataframe\">\n",
       "  <thead>\n",
       "    <tr style=\"text-align: right;\">\n",
       "      <th></th>\n",
       "      <th>en</th>\n",
       "      <th>th</th>\n",
       "    </tr>\n",
       "    <tr>\n",
       "      <th>0</th>\n",
       "      <th></th>\n",
       "      <th></th>\n",
       "    </tr>\n",
       "  </thead>\n",
       "  <tbody>\n",
       "    <tr>\n",
       "      <th>1</th>\n",
       "      <td>Somchai Jai Dee</td>\n",
       "      <td>สมชาย ใจดี</td>\n",
       "    </tr>\n",
       "    <tr>\n",
       "      <th>2</th>\n",
       "      <td>Rungtiwa Suayngam</td>\n",
       "      <td>รุ่งทิวา สวยงาม</td>\n",
       "    </tr>\n",
       "    <tr>\n",
       "      <th>3</th>\n",
       "      <td>Patharaporn Rukchat</td>\n",
       "      <td>ภัทราพร รักชาติ</td>\n",
       "    </tr>\n",
       "    <tr>\n",
       "      <th>4</th>\n",
       "      <td>Orawan Mee-rak</td>\n",
       "      <td>อรวรรณ มีรักษ์</td>\n",
       "    </tr>\n",
       "    <tr>\n",
       "      <th>5</th>\n",
       "      <td>Nattawan Sukjai</td>\n",
       "      <td>ณัฐวรรณ สุขใจ</td>\n",
       "    </tr>\n",
       "  </tbody>\n",
       "</table>\n",
       "</div>"
      ],
      "text/plain": [
       "                    en               th\n",
       "0                                      \n",
       "1      Somchai Jai Dee       สมชาย ใจดี\n",
       "2    Rungtiwa Suayngam  รุ่งทิวา สวยงาม\n",
       "3  Patharaporn Rukchat  ภัทราพร รักชาติ\n",
       "4       Orawan Mee-rak   อรวรรณ มีรักษ์\n",
       "5      Nattawan Sukjai    ณัฐวรรณ สุขใจ"
      ]
     },
     "execution_count": 5,
     "metadata": {},
     "output_type": "execute_result"
    }
   ],
   "source": [
    "df = df.drop(columns=['Name'])\n",
    "df.head()"
   ]
  },
  {
   "cell_type": "code",
   "execution_count": 6,
   "metadata": {},
   "outputs": [],
   "source": [
    "from trdg.utils import mask_to_bboxes, draw_bounding_boxes"
   ]
  },
  {
   "cell_type": "code",
   "execution_count": 9,
   "metadata": {},
   "outputs": [],
   "source": [
    "from trdg.generators import (\n",
    "    GeneratorFromStrings )\n",
    "\n",
    "# The generators use the same arguments as the CLI, only as parameters\n",
    "generator = GeneratorFromStrings(\n",
    "    # df['th'].tolist() + df['en'].tolist(),\n",
    "    ['นั่น', 'น่ัน', 'พี่', 'พ่ี', 'น้ำ', 'นำ้'],\n",
    "    blur=0,\n",
    "    random_blur=False,\n",
    "    language='th',\n",
    "    # count=len(df['th'].tolist())*2,\n",
    "    count=6,\n",
    "    fonts=[\n",
    "        'trdg/fonts/th/upcdb.ttf', \n",
    "        # 'trdg/fonts/th/upcdbi.ttf',\n",
    "        # 'trdg/fonts/th/upcdi.ttf', \n",
    "        'trdg/fonts/th/upcdl.ttf',\n",
    "    ],\n",
    "    size=64,\n",
    "    background_type=3,\n",
    "    image_dir='thai_id_bg/',\n",
    "    margins = (5,5,5,5),\n",
    "    output_mask=True,\n",
    "    output_bboxes=3,\n",
    ")   "
   ]
  },
  {
   "cell_type": "code",
   "execution_count": 10,
   "metadata": {},
   "outputs": [
    {
     "name": "stdout",
     "output_type": "stream",
     "text": [
      "['นั่', 'น']\n",
      "นั่น\n",
      "[(4, 12, 29, 59), (27, 35, 52, 59)]\n"
     ]
    },
    {
     "data": {
      "image/png": "[encoded data removed]",
      "text/plain": [
       "<PIL.Image.Image image mode=RGB size=62x64>"
      ]
     },
     "metadata": {},
     "output_type": "display_data"
    },
    {
     "name": "stdout",
     "output_type": "stream",
     "text": [
      "['นั่', 'น']\n",
      "น่ัน\n",
      "[(4, 11, 31, 59), (25, 36, 47, 59)]\n"
     ]
    },
    {
     "data": {
      "image/png": "[encoded data removed]",
      "text/plain": [
       "<PIL.Image.Image image mode=RGB size=58x64>"
      ]
     },
     "metadata": {},
     "output_type": "display_data"
    },
    {
     "name": "stdout",
     "output_type": "stream",
     "text": [
      "['พี่']\n",
      "พี่\n",
      "[(4, 12, 29, 59)]\n"
     ]
    },
    {
     "data": {
      "image/png": "[encoded data removed]",
      "text/plain": [
       "<PIL.Image.Image image mode=RGB size=41x64>"
      ]
     },
     "metadata": {},
     "output_type": "display_data"
    },
    {
     "name": "stdout",
     "output_type": "stream",
     "text": [
      "['พี่']\n",
      "พ่ี\n",
      "[(4, 11, 26, 59)]\n"
     ]
    },
    {
     "data": {
      "image/png": "[encoded data removed]",
      "text/plain": [
       "<PIL.Image.Image image mode=RGB size=38x64>"
      ]
     },
     "metadata": {},
     "output_type": "display_data"
    },
    {
     "name": "stdout",
     "output_type": "stream",
     "text": [
      "['น้ำ']\n",
      "น้ำ\n",
      "[(4, 7, 40, 59)]\n"
     ]
    },
    {
     "data": {
      "image/png": "[encoded data removed]",
      "text/plain": [
       "<PIL.Image.Image image mode=RGB size=53x64>"
      ]
     },
     "metadata": {},
     "output_type": "display_data"
    },
    {
     "name": "stdout",
     "output_type": "stream",
     "text": [
      "['น้ำ']\n",
      "นำ้\n",
      "[(4, 9, 37, 58)]\n"
     ]
    },
    {
     "data": {
      "image/png": "[encoded data removed]",
      "text/plain": [
       "<PIL.Image.Image image mode=RGB size=50x64>"
      ]
     },
     "metadata": {},
     "output_type": "display_data"
    }
   ],
   "source": [
    "from PIL import ImageDraw\n",
    "for (img, mask), lbl in generator:\n",
    "    print(lbl)\n",
    "    bboxes = mask_to_bboxes(mask)\n",
    "    print(bboxes)\n",
    "    d = ImageDraw.Draw(img)\n",
    "    for bbox in bboxes:\n",
    "        d.rectangle(bbox, outline=\"green\")\n",
    "    display(img)"
   ]
  },
  {
   "cell_type": "markdown",
   "metadata": {},
   "source": [
    "# trdg save for mmocr by P Earth"
   ]
  },
  {
   "cell_type": "code",
   "execution_count": 58,
   "metadata": {},
   "outputs": [
    {
     "name": "stderr",
     "output_type": "stream",
     "text": [
      "5it [00:00, 41.51it/s]"
     ]
    },
    {
     "name": "stdout",
     "output_type": "stream",
     "text": [
      "['ส', 'ม', 'ช', 'า', 'ย', ' ', 'ใ', 'จ', 'ดี']\n",
      "['รุ่', 'ง', 'ทิ', 'ว', 'า', ' ', 'ส', 'ว', 'ย', 'ง', 'า', 'ม']\n",
      "['ภั', 'ท', 'ร', 'า', 'พ', 'ร', ' ', 'รั', 'ก', 'ช', 'า', 'ติ']\n",
      "['อ', 'ร', 'ว', 'ร', 'ร', 'ณ', ' ', 'มี', 'รั', 'ก', 'ษ์']\n",
      "['ณั', 'ฐ', 'ว', 'ร', 'ร', 'ณ', ' ', 'สุ', 'ข', 'ใ', 'จ']\n",
      "['จ', 'อ', 'ห์', 'น', ' ', 'ส', 'มิ', 'ธ']\n",
      "['แ', 'ม', 'รี', ' ', 'จ', 'อ', 'ห์', 'น', 'สั', 'น']\n",
      "['เ', 'ด', 'วิ', 'ด', ' ', 'บ', 'ร', 'า', 'ว', 'น์']\n",
      "['เ', 'ซ', 'ร่', 'า', ' ', 'ด', 'า', 'วิ', 'ส']\n"
     ]
    },
    {
     "name": "stderr",
     "output_type": "stream",
     "text": [
      "15it [00:00, 43.51it/s]"
     ]
    },
    {
     "name": "stdout",
     "output_type": "stream",
     "text": [
      "['ไ', 'ม', 'เ', 'คิ', 'ล', ' ', 'วิ', 'ล', 'สั', 'น']\n",
      "['อ', 'ริ', 'ย', 'า', ' ', 'สุ', 'ข', 'ส', 'ม', 'บั', 'ติ']\n",
      "['ป', 'ร', 'า', 'ณี', ' ', 'วิ', 'ไ', 'ล', 'รั', 'ต', 'น์']\n",
      "['วิ', 'ชิ', 'ต', ' ', 'ห', 'า', 'ญ', 'ก', 'ล้', 'า']\n",
      "['อ', 'า', 'รี', 'ย์', ' ', 'น', 'ว', 'ล', 'เ', 'พ็', 'ช', 'ร์']\n",
      "['ช', 'า', 'ค', 'ริ', 'ต', ' ', 'ลิ้', 'ม', 'สุ', 'ข']\n",
      "['เ', 'จ', 'ส', 'สิ', 'ก้', 'า', ' ', 'มิ', 'ล', 'เ', 'ล', 'อ', 'ร์']\n",
      "['ค', 'ริ', 'ส', 'โ', 'ต', 'เ', 'ฟ', 'อ', 'ร์', ' ', 'วิ', 'ล', 'สั', 'น']\n",
      "['เ', 'อ', 'ลิ', 'ซ', 'า', 'เ', 'บ', 'ธ', ' ', 'เ', 'ท', 'เ', 'ล', 'อ', 'ร์']\n"
     ]
    },
    {
     "name": "stderr",
     "output_type": "stream",
     "text": [
      "25it [00:00, 39.23it/s]"
     ]
    },
    {
     "name": "stdout",
     "output_type": "stream",
     "text": [
      "['แ', 'ม', 'ท', 'ธิ', 'ว', ' ', 'จ', 'อ', 'ห์', 'น', 'สั', 'น']\n",
      "['แ', 'อ', 'ม', 'า', 'น', 'ด้', 'า', ' ', 'ด', 'า', 'วิ', 'ส']\n",
      "['ชั', 'ช', 'ว', 'า', 'ล', ' ', 'สุ', 'ข', 'ส', 'า', 'ธ', 'า', 'ร', 'ณ์']\n",
      "['วิ', 'ลั', 'ย', ' ', 'พ', 'ง', 'ศ์', 'ศิ', 'ริ']\n",
      "['สุ', 'ธี', ' ', 'ว', 'ง', 'ศ์', 'เ', 'จ', 'ริ', 'ญ']\n",
      "['ศุ', 'ภ', 'ณั', 'ฐ', ' ', 'ม', 'า', 'ก', 'มี']\n",
      "['นิ', 'ภ', 'า', 'พ', 'ร', ' ', 'รั', 'ก', 'ษ', 'า']\n",
      "['เ', 'จ', 'น', 'นิ', 'เ', 'ฟ', 'อ', 'ร์', ' ', 'แ', 'อ', 'น', 'เ', 'ด', 'อ', 'ร์', 'สั', 'น']\n"
     ]
    },
    {
     "name": "stderr",
     "output_type": "stream",
     "text": [
      "33it [00:00, 36.69it/s]"
     ]
    },
    {
     "name": "stdout",
     "output_type": "stream",
     "text": [
      "['ริ', 'ช', 'า', 'ร์', 'ด', ' ', 'ม', 'า', 'ร์', 'ติ', 'เ', 'น', 'ซ']\n",
      "['แ', 'พ', 'ท', 'ริ', 'เ', 'ซี', 'ย', ' ', 'ไ', 'ว', 'ท์']\n",
      "['แ', 'ด', 'เ', 'นี', 'ย', 'ล', ' ', 'ลี']\n",
      "['ลิ', 'น', 'ด', 'า', ' ', 'แ', 'ฮ', 'ริ', 'ส']\n",
      "['ธี', 'ร', 'ะ', 'พั', 'ฒ', 'น์', ' ', 'ห', 'า', 'ญ', 'ใ', 'จ']\n",
      "['ป', 'วี', 'ณ', 'า', ' ', 'ช', 'า', 'ติ', 'ไ', 'พ', 'ศ', 'า', 'ล']\n",
      "['กิ', 'ต', 'ติ', 'ย', 'า', ' ', 'สุ', 'ท', 'ธิ', 'ป', 'ร', 'ะ', 'ภ', 'า']\n",
      "['ช', 'นั', 'ญ', 'ชิ', 'ต', ' ', 'บุ', 'ญ', 'ยื', 'น']\n"
     ]
    },
    {
     "name": "stderr",
     "output_type": "stream",
     "text": [
      "41it [00:01, 37.10it/s]"
     ]
    },
    {
     "name": "stdout",
     "output_type": "stream",
     "text": [
      "['ไ', 'ร', 'อั', 'น', ' ', 'จ', 'อ', 'ห์', 'น', 'สั', 'น']\n",
      "['เ', 'อ', 'มิ', 'ลี่', ' ', 'ม', 'า', 'ร์', 'ติ', 'น']\n",
      "['นิ', 'โ', 'ค', 'ลั', 'ส', ' ', 'ด', 'า', 'วิ', 'ส']\n",
      "['คิ', 'ม', 'เ', 'บ', 'อ', 'ร์', 'ลี่', ' ', 'ค', 'ล', 'า', 'ร์', 'ก']\n",
      "['เ', 'จ', 'สั', 'น', ' ', 'วิ', 'ล', 'สั', 'น']\n",
      "['สุ', 'ภ', 'า', 'ว', 'ดี', ' ', 'ม', 'ณี', 'ส', 'วั', 'ส', 'ดิ์']\n",
      "['พิ', 'ช', 'ญ', 'า', ' ', 'รั', 'ก', 'เ', 'พ็', 'ช', 'ร์']\n",
      "['รั', 'ช', 'นี', 'ก', 'ร', ' ', 'สุ', 'ข', 'ส', 'ม', 'บั', 'ติ']\n"
     ]
    },
    {
     "name": "stderr",
     "output_type": "stream",
     "text": [
      "50it [00:01, 38.83it/s]"
     ]
    },
    {
     "name": "stdout",
     "output_type": "stream",
     "text": [
      "['วิ', 'ภ', 'า', 'ว', 'ดี', ' ', 'พ', 'ง', 'ศ์', 'พิ', 'ริ', 'ย', 'ะ']\n",
      "['ณั', 'ฐ', 'ช', 'ย', 'า', ' ', 'ม', 'ง', 'ค', 'ล', 'ส', 'วั', 'ส', 'ดิ์']\n",
      "['วิ', 'ล', 'เ', 'ลี', 'ย', 'ม', ' ', 'บ', 'ร', 'า', 'ว', 'น์']\n",
      "['มิ', 'เ', 'ช', 'ล', ' ', 'จ', 'อ', 'ห์', 'น', 'สั', 'น']\n",
      "['โ', 'จ', 'เ', 'ซ', 'ฟ', ' ', 'ด', 'า', 'วิ', 'ส']\n",
      "['แ', 'อ', 'ม', 'า', 'น', 'ด้', 'า', ' ', 'มิ', 'ล', 'เ', 'ล', 'อ', 'ร์']\n",
      "['เ', 'บ', 'น', 'จ', 'า', 'มิ', 'น', ' ', 'วิ', 'ล', 'สั', 'น']\n",
      "['ว', 'ริ', 'ศ', 'ร', 'า', ' ', 'รั', 'ต', 'น', 'พั', 'น', 'ธุ์']\n",
      "['สิ', 'ริ', 'พ', 'ร', ' ', 'ว', 'ง', 'ศ์', 'สุ', 'ว', 'ร', 'ร', 'ณ']\n"
     ]
    },
    {
     "name": "stderr",
     "output_type": "stream",
     "text": [
      "59it [00:01, 39.20it/s]"
     ]
    },
    {
     "name": "stdout",
     "output_type": "stream",
     "text": [
      "['ณั', 'ฐ', 'ก', 'ฤ', 'ต', 'า', ' ', 'สุ', 'ข', 'ส', 'ม', 'บั', 'ติ']\n",
      "['ภั', 'ท', 'ร', 'นั', 'น', 'ท์', ' ', 'แ', 'ส', 'ง', 'แ', 'ก้', 'ว']\n",
      "['ชื่', 'น', 'ช', 'ม', ' ', 'สุ', 'ข', 'ส', 'วั', 'ส', 'ดิ์']\n",
      "['แ', 'อ', 'น', 'ด', 'รู', ' ', 'จ', 'อ', 'ห์', 'น', 'สั', 'น']\n",
      "['เ', 'อ', 'ลิ', 'ซ', 'า', 'เ', 'บ', 'ธ', ' ', 'วิ', 'ล', 'สั', 'น']\n",
      "['ไ', 'ม', 'เ', 'คิ', 'ล', ' ', 'ส', 'มิ', 'ธ']\n",
      "['เ', 'จ', 'น', 'นิ', 'เ', 'ฟ', 'อ', 'ร์', ' ', 'ด', 'า', 'วิ', 'ส']\n",
      "['ค', 'ริ', 'ส', 'โ', 'ต', 'เ', 'ฟ', 'อ', 'ร์', ' ', 'ม', 'า', 'ร์', 'ติ', 'เ', 'น', 'ซ']\n"
     ]
    },
    {
     "name": "stderr",
     "output_type": "stream",
     "text": [
      "64it [00:01, 39.99it/s]"
     ]
    },
    {
     "name": "stdout",
     "output_type": "stream",
     "text": [
      "['ป', 'ร', 'ะ', 'ภ', 'า', 'ส', ' ', 'ศ', 'รี', 'สุ', 'ข']\n",
      "['ร', 'วิ', 'ศ', ' ', 'ก', 'า', 'ญ', 'จ', 'น', 'ศ', 'รี']\n",
      "['แ', 'ส', 'ง', 'ว', 'ร', 'ร', 'ณ', ' ', 'ม', 'ณี', 'ส', 'วั', 'ส', 'ดิ์']\n",
      "['อ', 'นุ', 'ช', 'า', ' ', 'ชิ', 'น', 'วั', 'ต', 'ร']\n",
      "['วิ', 'ไ', 'ล', 'ว', 'ร', 'ร', 'ณ', ' ', 'พั', 'น', 'ธุ์', 'เ', 'พ็', 'ช', 'ร์']\n",
      "['สุ', 'ว', 'ร', 'ร', 'ณี', ' ', 'น', 'ว', 'ล', 'จั', 'น', 'ท', 'ร์']\n",
      "['เ', 'จ', 'ส', 'สิ', 'ก้', 'า', ' ', 'แ', 'อ', 'น', 'เ', 'ด', 'อ', 'ร์', 'สั', 'น']\n",
      "['โ', 'ร', 'เ', 'บิ', 'ร์', 'ต', ' ', 'ม', 'า', 'ร์', 'ติ', 'น']\n",
      "['แ', 'ค', 'เ', 'ร', 'น', ' ', 'จ', 'อ', 'ห์', 'น', 'สั', 'น']\n"
     ]
    },
    {
     "name": "stderr",
     "output_type": "stream",
     "text": [
      "73it [00:01, 39.72it/s]"
     ]
    },
    {
     "name": "stdout",
     "output_type": "stream",
     "text": [
      "['เ', 'จ', 'สั', 'น', ' ', 'บ', 'ร', 'า', 'ว', 'น์']\n",
      "['อ', 'ร', 'ทั', 'ย', ' ', 'สุ', 'ข', 'ส', 'ม', 'บั', 'ติ']\n",
      "['รั', 'ช', 'พ', 'ล', ' ', 'ว', 'ง', 'ษ์', 'ส', 'วั', 'ส', 'ดิ์']\n",
      "['พ', 'ร', 'ทิ', 'พ', 'ย์', ' ', 'ศิ', 'ริ', 'พั', 'น', 'ธุ์']\n",
      "['สุ', 'ว', 'ร', 'ร', 'ณ', 'ภ', 'า', ' ', 'ก', 'า', 'ญ', 'จ', 'น', 'สิ', 'ริ', 'กุ', 'ล']\n",
      "['กั', 'ล', 'ย', 'า', 'ณี', ' ', 'ม', 'า', 'ก', 'เ', 'จ', 'ริ', 'ญ']\n",
      "['เ', 'จ', 'ม', 'ส์', ' ', 'จ', 'อ', 'ห์', 'น', 'สั', 'น']\n",
      "['แ', 'พ', 'ท', 'ริ', 'เ', 'ซี', 'ย', ' ', 'ม', 'า', 'ร์', 'ติ', 'เ', 'น', 'ซ']\n",
      "['เ', 'ด', 'วิ', 'ด', ' ', 'วิ', 'ล', 'สั', 'น']\n"
     ]
    },
    {
     "name": "stderr",
     "output_type": "stream",
     "text": [
      "83it [00:02, 40.02it/s]"
     ]
    },
    {
     "name": "stdout",
     "output_type": "stream",
     "text": [
      "['เ', 'ซ', 'ร่', 'า', ' ', 'เ', 'ท', 'เ', 'ล', 'อ', 'ร์']\n",
      "['วิ', 'ล', 'เ', 'ลี', 'ย', 'ม', ' ', 'ด', 'า', 'วิ', 'ส']\n",
      "['ธ', 'น', 'วิ', 'ช', 'ญ์', ' ', 'ว', 'ง', 'ศ์', 'ส', 'ม', 'บั', 'ติ']\n",
      "['ส', 'รั', 'ญ', 'ญ', 'า', ' ', 'รั', 'ต', 'น', 'พั', 'น', 'ธุ์']\n",
      "['จุ', 'ฑ', 'า', 'รั', 'ต', 'น์', ' ', 'ศ', 'รี', 'สุ', 'ข']\n",
      "['พ', 'ง', 'ษ์', 'พั', 'ฒ', 'น์', ' ', 'ว', 'ง', 'ศ์', 'เ', 'จ', 'ริ', 'ญ']\n",
      "['ป', 'ร', 'า', 'ณี', ' ', 'ศ', 'รี', 'สุ', 'ข']\n",
      "['เ', 'อ', 'มิ', 'ลี่', ' ', 'ส', 'มิ', 'ธ']\n",
      "['ค', 'ริ', 'ส', 'โ', 'ต', 'เ', 'ฟ', 'อ', 'ร์', ' ', 'จ', 'อ', 'ห์', 'น', 'สั', 'น']\n"
     ]
    },
    {
     "name": "stderr",
     "output_type": "stream",
     "text": [
      "93it [00:02, 38.71it/s]"
     ]
    },
    {
     "name": "stdout",
     "output_type": "stream",
     "text": [
      "['เ', 'จ', 'ส', 'สิ', 'ก้', 'า', ' ', 'ด', 'า', 'วิ', 'ส']\n",
      "['ไ', 'ม', 'เ', 'คิ', 'ล', ' ', 'บ', 'ร', 'า', 'ว', 'น์']\n",
      "['เ', 'จ', 'น', 'นิ', 'เ', 'ฟ', 'อ', 'ร์', ' ', 'วิ', 'ล', 'สั', 'น']\n",
      "['วั', 'ช', 'รี', ' ', 'มี', 'รั', 'ก', 'ษ์']\n",
      "['ป', 'ร', 'า', 'ณี', ' ', 'วิ', 'ไ', 'ล', 'รั', 'ต', 'น์']\n",
      "['อ', 'ม', 'ร', 'รั', 'ต', 'น์', ' ', 'รั', 'ต', 'น', 'เ', 'ศ', 'ร', 'ษ', 'ฐ์']\n",
      "['ศุ', 'ภ', 'ณั', 'ฐ', ' ', 'สุ', 'ข', 'ส', 'ม', 'บั', 'ติ']\n",
      "['จั', 'ก', 'รี', ' ', 'น', 'ว', 'ล', 'จั', 'น', 'ท', 'ร์']\n"
     ]
    },
    {
     "name": "stderr",
     "output_type": "stream",
     "text": [
      "98it [00:02, 39.80it/s]"
     ]
    },
    {
     "name": "stdout",
     "output_type": "stream",
     "text": [
      "['แ', 'ม', 'ท', 'ธิ', 'ว', ' ', 'ม', 'า', 'ร์', 'ติ', 'เ', 'น', 'ซ']\n",
      "['ล', 'อ', 'ร่', 'า', ' ', 'จ', 'อ', 'ห์', 'น', 'สั', 'น']\n",
      "['แ', 'ด', 'เ', 'นี', 'ย', 'ล', ' ', 'ไ', 'ว', 'ท์']\n",
      "['ลิ', 'ซ่', 'า', ' ', 'ด', 'า', 'วิ', 'ส']\n",
      "['เ', 'ค', 'วิ', 'น', ' ', 'วิ', 'ล', 'สั', 'น']\n",
      "['นั', 'ท', 'ธ', 'น', 'า', ' ', 'ว', 'ง', 'ษ์', 'พั', 'น', 'ธุ์']\n",
      "['S', 'o', 'm', 'c', 'h', 'a', 'i', ' ', 'J', 'a', 'i', ' ', 'D', 'e', 'e']\n",
      "['R', 'u', 'n', 'g', 't', 'i', 'w', 'a', ' ', 'S', 'u', 'a', 'y', 'n', 'g', 'a', 'm']\n",
      "['P', 'a', 't', 'h', 'a', 'r', 'a', 'p', 'o', 'r', 'n', ' ', 'R', 'u', 'k', 'c', 'h', 'a', 't']\n"
     ]
    },
    {
     "name": "stderr",
     "output_type": "stream",
     "text": [
      "108it [00:02, 39.82it/s]"
     ]
    },
    {
     "name": "stdout",
     "output_type": "stream",
     "text": [
      "['O', 'r', 'a', 'w', 'a', 'n', ' ', 'M', 'e', 'e', '-', 'r', 'a', 'k']\n",
      "['N', 'a', 't', 't', 'a', 'w', 'a', 'n', ' ', 'S', 'u', 'k', 'j', 'a', 'i']\n",
      "['J', 'o', 'h', 'n', ' ', 'S', 'm', 'i', 't', 'h']\n",
      "['M', 'a', 'r', 'y', ' ', 'J', 'o', 'h', 'n', 's', 'o', 'n']\n",
      "['D', 'a', 'v', 'i', 'd', ' ', 'B', 'r', 'o', 'w', 'n']\n",
      "['S', 'a', 'r', 'a', 'h', ' ', 'D', 'a', 'v', 'i', 's']\n",
      "['M', 'i', 'c', 'h', 'a', 'e', 'l', ' ', 'W', 'i', 'l', 's', 'o', 'n']\n",
      "['A', 'r', 'i', 'y', 'a', ' ', 'S', 'u', 'k', 's', 'u', 'm', 'b', 'a', 't']\n",
      "['P', 'a', 'r', 'a', 'n', 'i', ' ', 'W', 'i', 'l', 'a', 'i', 'r', 'a', 't']\n"
     ]
    },
    {
     "name": "stderr",
     "output_type": "stream",
     "text": [
      "118it [00:03, 39.17it/s]"
     ]
    },
    {
     "name": "stdout",
     "output_type": "stream",
     "text": [
      "['W', 'i', 'c', 'h', 'i', 't', ' ', 'H', 'a', 'n', 'k', 'a']\n",
      "['A', 'r', 'i', 'y', 'a', ' ', 'N', 'u', 'a', 'l', 'p', 'e', 't', 'c', 'h']\n",
      "['C', 'h', 'a', 'k', 'r', 'i', 't', ' ', 'L', 'i', 'm', 's', 'o', 'o', 'k']\n",
      "['J', 'e', 's', 's', 'i', 'c', 'a', ' ', 'M', 'i', 'l', 'l', 'e', 'r']\n",
      "['C', 'h', 'r', 'i', 's', 't', 'o', 'p', 'h', 'e', 'r', ' ', 'W', 'i', 'l', 's', 'o', 'n']\n",
      "['E', 'l', 'i', 'z', 'a', 'b', 'e', 't', 'h', ' ', 'T', 'a', 'y', 'l', 'o', 'r']\n",
      "['M', 'a', 't', 't', 'h', 'e', 'w', ' ', 'J', 'o', 'h', 'n', 's', 'o', 'n']\n",
      "['A', 'm', 'a', 'n', 'd', 'a', ' ', 'D', 'a', 'v', 'i', 's']\n"
     ]
    },
    {
     "name": "stderr",
     "output_type": "stream",
     "text": [
      "126it [00:03, 37.70it/s]"
     ]
    },
    {
     "name": "stdout",
     "output_type": "stream",
     "text": [
      "['C', 'h', 'a', 't', 'c', 'h', 'a', 'v', 'a', 'l', ' ', 'S', 'u', 'k', 's', 'a', 't', 'h', 'a', 'r', 'n']\n",
      "['W', 'i', 'l', 'a', 'i', ' ', 'P', 'o', 'n', 'g', 's', 'i', 'r', 'i']\n",
      "['S', 'u', 't', 'h', 'i', ' ', 'W', 'o', 'n', 'g', 'c', 'h', 'a', 'r', 'o', 'e', 'n']\n",
      "['S', 'u', 'p', 'a', 'n', 'a', 't', ' ', 'M', 'a', 'k', 'm', 'i']\n",
      "['N', 'i', 'p', 'a', 'p', 'o', 'r', 'n', ' ', 'R', 'a', 'k', 's', 'a']\n",
      "['J', 'e', 'n', 'n', 'i', 'f', 'e', 'r', ' ', 'A', 'n', 'd', 'e', 'r', 's', 'o', 'n']\n",
      "['R', 'i', 'c', 'h', 'a', 'r', 'd', ' ', 'M', 'a', 'r', 't', 'i', 'n', 'e', 'z']\n",
      "['P', 'a', 't', 'r', 'i', 'c', 'i', 'a', ' ', 'W', 'h', 'i', 't', 'e']\n"
     ]
    },
    {
     "name": "stderr",
     "output_type": "stream",
     "text": [
      "135it [00:03, 37.78it/s]"
     ]
    },
    {
     "name": "stdout",
     "output_type": "stream",
     "text": [
      "['D', 'a', 'n', 'i', 'e', 'l', ' ', 'L', 'e', 'e']\n",
      "['L', 'i', 'n', 'd', 'a', ' ', 'H', 'a', 'r', 'r', 'i', 's']\n",
      "['T', 'e', 'e', 'r', 'a', 'p', 'a', 't', ' ', 'H', 'a', 'n', 'y', 'a']\n",
      "['P', 'a', 'w', 'e', 'e', 'n', 'a', ' ', 'C', 'h', 'a', 't', 'p', 'i', 'p', 'a', 't']\n",
      "['K', 'i', 't', 't', 'a', 'y', 'a', ' ', 'S', 'u', 't', 't', 'h', 'i', 'p', 'r', 'a', 'p', 'a']\n",
      "['C', 'h', 'a', 'n', 'a', 'n', 'c', 'h', 'i', 't', ' ', 'B', 'u', 'n', 'y', 'e', 'u', 'n']\n",
      "['R', 'y', 'a', 'n', ' ', 'J', 'o', 'h', 'n', 's', 'o', 'n']\n",
      "['E', 'm', 'i', 'l', 'y', ' ', 'M', 'a', 'r', 't', 'i', 'n']\n"
     ]
    },
    {
     "name": "stderr",
     "output_type": "stream",
     "text": [
      "140it [00:03, 38.21it/s]"
     ]
    },
    {
     "name": "stdout",
     "output_type": "stream",
     "text": [
      "['N', 'i', 'c', 'h', 'o', 'l', 'a', 's', ' ', 'D', 'a', 'v', 'i', 's']\n",
      "['K', 'i', 'm', 'b', 'e', 'r', 'l', 'y', ' ', 'C', 'l', 'a', 'r', 'k']\n",
      "['J', 'a', 's', 'o', 'n', ' ', 'W', 'i', 'l', 's', 'o', 'n']\n",
      "['S', 'u', 'p', 'a', 'w', 'a', 'd', 'e', 'e', ' ', 'M', 'a', 'n', 'i', 's', 'a', 'w', 'a', 't']\n",
      "['P', 'i', 'c', 'h', 'a', 'y', 'a', ' ', 'R', 'u', 'k', 'p', 'e', 't', 'c', 'h']\n",
      "['R', 'a', 't', 'c', 'h', 'a', 'n', 'e', 'e', ' ', 'S', 'u', 'k', 's', 'u', 'm', 'b', 'a', 't']\n",
      "['W', 'i', 'p', 'a', 'w', 'a', 'd', 'e', 'e', ' ', 'P', 'o', 'n', 'g', 'p', 'i', 'r', 'i', 'y', 'a']\n",
      "['N', 'a', 't', 'c', 'h', 'a', 'y', 'a', ' ', 'M', 'o', 'n', 'g', 'k', 'o', 'n', 's', 'a', 'w', 'a', 't']\n"
     ]
    },
    {
     "name": "stderr",
     "output_type": "stream",
     "text": [
      "148it [00:03, 36.68it/s]"
     ]
    },
    {
     "name": "stdout",
     "output_type": "stream",
     "text": [
      "['W', 'i', 'l', 'l', 'i', 'a', 'm', ' ', 'B', 'r', 'o', 'w', 'n']\n",
      "['M', 'i', 'c', 'h', 'e', 'l', 'l', 'e', ' ', 'J', 'o', 'h', 'n', 's', 'o', 'n']\n",
      "['J', 'o', 's', 'e', 'p', 'h', ' ', 'D', 'a', 'v', 'i', 's']\n",
      "['A', 'm', 'a', 'n', 'd', 'a', ' ', 'M', 'i', 'l', 'l', 'e', 'r']\n",
      "['B', 'e', 'n', 'j', 'a', 'm', 'i', 'n', ' ', 'W', 'i', 'l', 's', 'o', 'n']\n",
      "['W', 'a', 'r', 'i', 's', 'a', ' ', 'R', 'a', 't', 't', 'a', 'n', 'a', 'p', 'a', 'n']\n",
      "['S', 'i', 'r', 'i', 'p', 'o', 'r', 'n', ' ', 'W', 'o', 'n', 'g', 's', 'u', 'w', 'a', 'n']\n",
      "['N', 'a', 't', 'k', 'r', 'i', 't', 'a', ' ', 'S', 'u', 'k', 's', 'o', 'm', 'b', 'a', 't']\n"
     ]
    },
    {
     "name": "stderr",
     "output_type": "stream",
     "text": [
      "156it [00:04, 35.27it/s]"
     ]
    },
    {
     "name": "stdout",
     "output_type": "stream",
     "text": [
      "['P', 'a', 't', 'h', 'o', 'r', 'n', 'a', 'n', ' ', 'S', 'a', 'e', 'n', 'g', 'k', 'a', 'e', 'w']\n",
      "['C', 'h', 'e', 'u', 'n', 'c', 'h', 'o', 'm', ' ', 'S', 'u', 'k', 's', 'a', 'w', 'a', 't']\n",
      "['A', 'n', 'd', 'r', 'e', 'w', ' ', 'J', 'o', 'h', 'n', 's', 'o', 'n']\n",
      "['E', 'l', 'i', 'z', 'a', 'b', 'e', 't', 'h', ' ', 'W', 'i', 'l', 's', 'o', 'n']\n",
      "['M', 'i', 'c', 'h', 'a', 'e', 'l', ' ', 'S', 'm', 'i', 't', 'h']\n",
      "['J', 'e', 'n', 'n', 'i', 'f', 'e', 'r', ' ', 'D', 'a', 'v', 'i', 's']\n",
      "['C', 'h', 'r', 'i', 's', 't', 'o', 'p', 'h', 'e', 'r', ' ', 'M', 'a', 'r', 't', 'i', 'n', 'e', 'z']\n",
      "['P', 'r', 'a', 'p', 'a', 's', 's', ' ', 'S', 'r', 'i', 's', 'u', 'k']\n"
     ]
    },
    {
     "name": "stderr",
     "output_type": "stream",
     "text": [
      "164it [00:04, 35.45it/s]"
     ]
    },
    {
     "name": "stdout",
     "output_type": "stream",
     "text": [
      "['R', 'a', 'v', 'i', 's', ' ', 'K', 'a', 'n', 'j', 'a', 'n', 'a', 's', 'r', 'i']\n",
      "['S', 'a', 'e', 'n', 'g', 'w', 'a', 'r', 'n', ' ', 'M', 'a', 'n', 'i', 's', 'a', 'w', 'a', 't']\n",
      "['A', 'n', 'u', 'c', 'h', 'a', ' ', 'C', 'h', 'i', 'n', 'w', 'a', 't']\n",
      "['W', 'i', 'l', 'a', 'i', 'w', 'a', 'n', ' ', 'P', 'o', 'n', 'g', 'p', 'e', 't', 'c', 'h']\n",
      "['S', 'u', 'w', 'a', 'n', 'n', 'e', 'e', ' ', 'N', 'u', 'a', 'n', 'j', 'a', 'n']\n",
      "['J', 'e', 's', 's', 'i', 'c', 'a', ' ', 'A', 'n', 'd', 'e', 'r', 's', 'o', 'n']\n",
      "['R', 'o', 'b', 'e', 'r', 't', ' ', 'M', 'a', 'r', 't', 'i', 'n']\n",
      "['K', 'a', 'r', 'e', 'n', ' ', 'J', 'o', 'h', 'n', 's', 'o', 'n']\n"
     ]
    },
    {
     "name": "stderr",
     "output_type": "stream",
     "text": [
      "172it [00:04, 36.26it/s]"
     ]
    },
    {
     "name": "stdout",
     "output_type": "stream",
     "text": [
      "['J', 'a', 's', 'o', 'n', ' ', 'B', 'r', 'o', 'w', 'n']\n",
      "['O', 'r', 'a', 't', 'h', 'a', 'i', ' ', 'S', 'u', 'k', 's', 'o', 'm', 'b', 'a', 't']\n",
      "['R', 'a', 't', 'c', 'h', 'a', 'p', 'o', 'l', ' ', 'W', 'o', 'n', 'g', 's', 'w', 'a', 't']\n",
      "['P', 'h', 'o', 'n', 't', 'h', 'i', 'p', ' ', 'S', 'i', 'r', 'i', 'p', 'a', 'n']\n",
      "['S', 'u', 'w', 'a', 'n', 'n', 'a', 'p', 'a', ' ', 'K', 'a', 'n', 'j', 'a', 'n', 's', 'i', 'r', 'i', 'k', 'u', 'l']\n",
      "['K', 'a', 'l', 'y', 'a', 'n', 'i', ' ', 'M', 'a', 'k', 'j', 'o', 'r', 'n']\n",
      "['J', 'a', 'm', 'e', 's', ' ', 'J', 'o', 'h', 'n', 's', 'o', 'n']\n",
      "['P', 'a', 't', 'r', 'i', 'c', 'i', 'a', ' ', 'M', 'a', 'r', 't', 'i', 'n', 'e', 'z']\n"
     ]
    },
    {
     "name": "stderr",
     "output_type": "stream",
     "text": [
      "180it [00:04, 36.15it/s]"
     ]
    },
    {
     "name": "stdout",
     "output_type": "stream",
     "text": [
      "['D', 'a', 'v', 'i', 'd', ' ', 'W', 'i', 'l', 's', 'o', 'n']\n",
      "['S', 'a', 'r', 'a', 'h', ' ', 'T', 'a', 'y', 'l', 'o', 'r']\n",
      "['W', 'i', 'l', 'l', 'i', 'a', 'm', ' ', 'D', 'a', 'v', 'i', 's']\n",
      "['T', 'h', 'a', 'n', 'a', 'w', 'i', 'c', 'h', ' ', 'W', 'o', 'n', 'g', 's', 'u', 'm', 'b', 'a', 't']\n",
      "['S', 'a', 'r', 'a', 'n', 'y', 'a', ' ', 'R', 'a', 't', 't', 'a', 'n', 'a', 'p', 'a', 'n']\n",
      "['J', 'u', 't', 'a', 'r', 'a', 't', ' ', 'S', 'r', 'i', 's', 'u', 'k']\n",
      "['P', 'h', 'o', 'n', 'g', 'p', 'h', 'a', 't', ' ', 'W', 'o', 'n', 'g', 'c', 'h', 'a', 'r', 'o', 'e', 'n']\n",
      "['P', 'a', 'r', 'a', 'n', 'i', ' ', 'S', 'r', 'i', 's', 'u', 'k']\n"
     ]
    },
    {
     "name": "stderr",
     "output_type": "stream",
     "text": [
      "188it [00:04, 36.76it/s]"
     ]
    },
    {
     "name": "stdout",
     "output_type": "stream",
     "text": [
      "['E', 'm', 'i', 'l', 'y', ' ', 'S', 'm', 'i', 't', 'h']\n",
      "['C', 'h', 'r', 'i', 's', 't', 'o', 'p', 'h', 'e', 'r', ' ', 'J', 'o', 'h', 'n', 's', 'o', 'n']\n",
      "['J', 'e', 's', 's', 'i', 'c', 'a', ' ', 'D', 'a', 'v', 'i', 's']\n",
      "['M', 'i', 'c', 'h', 'a', 'e', 'l', ' ', 'B', 'r', 'o', 'w', 'n']\n",
      "['J', 'e', 'n', 'n', 'i', 'f', 'e', 'r', ' ', 'W', 'i', 'l', 's', 'o', 'n']\n",
      "['W', 'a', 't', 'c', 'h', 'a', 'r', 'i', ' ', 'M', 'e', 'e', '-', 'r', 'a', 'k']\n",
      "['P', 'a', 'r', 'a', 'n', 'i', ' ', 'W', 'i', 'l', 'a', 'i', 'r', 'a', 't']\n",
      "['A', 'm', 'o', 'r', 'n', 'r', 'a', 't', ' ', 'R', 'a', 't', 't', 'a', 'n', 'a', 's', 'e', 't']\n"
     ]
    },
    {
     "name": "stderr",
     "output_type": "stream",
     "text": [
      "196it [00:05, 35.93it/s]"
     ]
    },
    {
     "name": "stdout",
     "output_type": "stream",
     "text": [
      "['S', 'u', 'p', 'a', 'n', 'a', 't', ' ', 'S', 'u', 'k', 's', 'o', 'm', 'b', 'a', 't']\n",
      "['J', 'a', 'k', 'r', 'e', 'e', ' ', 'N', 'u', 'a', 'n', 'j', 'a', 'n']\n",
      "['M', 'a', 't', 't', 'h', 'e', 'w', ' ', 'M', 'a', 'r', 't', 'i', 'n', 'e', 'z']\n",
      "['L', 'a', 'u', 'r', 'a', ' ', 'J', 'o', 'h', 'n', 's', 'o', 'n']\n",
      "['D', 'a', 'n', 'i', 'e', 'l', ' ', 'W', 'h', 'i', 't', 'e']\n",
      "['L', 'i', 's', 'a', ' ', 'D', 'a', 'v', 'i', 's']\n",
      "['K', 'e', 'v', 'i', 'n', ' ', 'W', 'i', 'l', 's', 'o', 'n']\n",
      "['N', 'a', 't', 't', 'h', 'a', 'n', 'a', ' ', 'W', 'o', 'n', 'g', 'p', 'a', 'n']\n"
     ]
    },
    {
     "name": "stderr",
     "output_type": "stream",
     "text": [
      "200it [00:05, 38.07it/s]\n"
     ]
    }
   ],
   "source": [
    "import time\n",
    "import os\n",
    "from tqdm import tqdm\n",
    "from pyblp import save_pickle\n",
    "\n",
    "def current_milli_time():\n",
    "    return round(time.time() * 1000)\n",
    "\n",
    "project_dir = 'ThaiID'\n",
    "full_path =os.path.dirname(os.path.realpath(\"__file__\"))\n",
    "project_dir = os.path.join(full_path,project_dir)\n",
    "dirname = 'train'\n",
    "dir_path = os.path.join(project_dir,dirname)\n",
    "os.makedirs(dir_path,exist_ok=True)\n",
    "texts = []\n",
    "save_dir_img =os.path.join(dir_path,'imgs')\n",
    "# rmtree(save_dir_img,ignore_errors=True)\n",
    "os.makedirs(save_dir_img,exist_ok=True)\n",
    "\n",
    "save_dir_bbox =os.path.join(dir_path,'bbox')\n",
    "# rmtree(save_dir_bbox,ignore_errors=True)\n",
    "os.makedirs(save_dir_bbox,exist_ok=True)\n",
    "\n",
    "save_dir_mask =os.path.join(dir_path,'mask')\n",
    "# rmtree(save_dir_mask,ignore_errors=True)\n",
    "os.makedirs(save_dir_mask,exist_ok=True)\n",
    "\n",
    "for i in tqdm(generator):\n",
    "    if i[0]:\n",
    "        (img, mask), lbl = i\n",
    "        try:\n",
    "            # lbl = lbl.replace('—','')\n",
    "            # display(img)\n",
    "            bbox = mask_to_bboxes(mask)\n",
    "            timestamp = current_milli_time()\n",
    "            filename = f'{timestamp}.jpg'\n",
    "            filename_mask = f'{timestamp}.png'\n",
    "            bbox_filename = f'{timestamp}.pkl'\n",
    "            image_path = os.path.join(save_dir_img,filename)\n",
    "            bbox_path = os.path.join(save_dir_bbox,bbox_filename)\n",
    "\n",
    "            mask_path = os.path.join(save_dir_mask,filename_mask)\n",
    "            save_pickle(bbox, bbox_path)\n",
    "            # txt_imagepath =os.path.join('test',filename)\n",
    "\n",
    "            # resized = img.resize((340,70))\n",
    "            img.save(image_path)\n",
    "            mask.save(mask_path)\n",
    "            texts.append(f'{filename} {lbl}\\n')\n",
    "        # print(lbl)\n",
    "        except Exception as e:\n",
    "            print(e)\n",
    "            print(lbl)\n",
    "with open(os.path.join(dir_path,'gt.txt'),'a') as f:\n",
    "    f.writelines(''.join(texts))"
   ]
  },
  {
   "cell_type": "markdown",
   "metadata": {},
   "source": [
    "# Test with a single image"
   ]
  },
  {
   "cell_type": "code",
   "execution_count": 7,
   "metadata": {},
   "outputs": [
    {
     "data": {
      "image/png": "[encoded data removed]",
      "text/plain": [
       "<PIL.Image.Image image mode=RGB size=600x100>"
      ]
     },
     "metadata": {},
     "output_type": "display_data"
    }
   ],
   "source": [
    "from PIL import Image, ImageFont, ImageDraw\n",
    "\n",
    "text_string = str(['นั่น', 'น่ัน', 'พี่', 'พ่ี', 'น้ำ', 'นำ้'])\n",
    "\n",
    "img = Image.new('RGB', (600, 100))\n",
    "draw = ImageDraw.Draw(img)\n",
    "font = ImageFont.truetype('trdg/fonts/th/upcdb.ttf', 50, layout_engine=ImageFont.Layout.RAQM)\n",
    "\n",
    "draw.text((25,40), text_string, fill='white', font=font)\n",
    "\n",
    "display(img)"
   ]
  }
 ],
 "metadata": {
  "kernelspec": {
   "display_name": "Python 3",
   "language": "python",
   "name": "python3"
  },
  "language_info": {
   "codemirror_mode": {
    "name": "ipython",
    "version": 3
   },
   "file_extension": ".py",
   "mimetype": "text/x-python",
   "name": "python",
   "nbconvert_exporter": "python",
   "pygments_lexer": "ipython3",
   "version": "3.10.6"
  },
  "orig_nbformat": 4
 },
 "nbformat": 4,
 "nbformat_minor": 2
}
